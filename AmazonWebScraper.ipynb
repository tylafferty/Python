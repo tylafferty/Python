{
 "cells": [
  {
   "cell_type": "markdown",
   "id": "c20f4497-2d1b-4998-a102-b876465bc79d",
   "metadata": {},
   "source": [
    "# Amazon Web Scraper"
   ]
  },
  {
   "cell_type": "code",
   "execution_count": 3,
   "id": "3821ae85-acec-4db3-adcf-373cf50b093f",
   "metadata": {},
   "outputs": [],
   "source": [
    "# Import libraries\n",
    "\n",
    "from bs4 import BeautifulSoup\n",
    "import pandas as pd\n",
    "import requests\n",
    "import time\n",
    "import datetime\n",
    "import smtplib\n",
    "import csv"
   ]
  },
  {
   "cell_type": "code",
   "execution_count": 5,
   "id": "bd4a713f-e59e-4710-b739-9f48cda24d75",
   "metadata": {},
   "outputs": [
    {
     "name": "stdout",
     "output_type": "stream",
     "text": [
      "Logitech G PRO X Superlight Wireless Gaming Mouse, Ultra-Lightweight, Hero 25K Sensor, 25,600 DPI, 5 Programmable Buttons, Long Battery Life, Compatible with PC / Mac - Black\n",
      "189.49\n"
     ]
    }
   ],
   "source": [
    "# Connect to website\n",
    "\n",
    "URL = 'https://www.amazon.ca/Logitech-Superlight-Wireless-Gaming-Mouse/dp/B087LXCTFJ'\n",
    "\n",
    "headers = {\"User-Agent\": \"Mozilla/5.0 (Windows NT 10.0; Win64; x64) AppleWebKit/537.36 (KHTML, like Gecko) Chrome/125.0.0.0 Safari/537.36\", \"Accept-Encoding\":\"gzip, deflate\", \"Accept\":\"text/html,application/xhtml+xml,application/xml;q=0.9,*/*;q=0.8\", \"DNT\":\"1\",\"Connection\":\"close\", \"Upgrade-Insecure-Requests\":\"1\"}\n",
    "\n",
    "page = requests.get(URL, headers = headers)\n",
    "\n",
    "soup1 = BeautifulSoup(page.content, 'html.parser')\n",
    "\n",
    "soup2 = BeautifulSoup(soup1.prettify(), 'html.parser')\n",
    "\n",
    "title = soup2.find(id = 'productTitle').get_text()\n",
    "\n",
    "price = soup2.find(class_ = 'aok-offscreen').get_text()\n",
    "\n",
    "price = price.strip()[1:7]\n",
    "title = title.strip()\n",
    "\n",
    "print(title)\n",
    "print(price)\n"
   ]
  },
  {
   "cell_type": "code",
   "execution_count": 7,
   "id": "6d15e1ca-2ee2-4208-a18e-4e0b1c42d96c",
   "metadata": {},
   "outputs": [
    {
     "name": "stdout",
     "output_type": "stream",
     "text": [
      "2024-06-08\n"
     ]
    }
   ],
   "source": [
    "today = datetime.date.today()\n",
    "print(today)"
   ]
  },
  {
   "cell_type": "code",
   "execution_count": 39,
   "id": "980c6a56-ff39-4a42-b970-0d3f316eb8cc",
   "metadata": {},
   "outputs": [],
   "source": [
    "header = ['Title', 'Price', 'Date']\n",
    "data = [title, price, today]\n",
    "\n",
    "#Only run once!!!\n",
    "#with open('AmazonScrapedData.csv', 'w', newline = '', encoding = 'UTF8') as f:\n",
    "    #writer=csv.writer(f)\n",
    "    #writer.writerow(header)\n",
    "    #writer.writerow(data)"
   ]
  },
  {
   "cell_type": "code",
   "execution_count": 130,
   "id": "3de1bebf-8a9b-4108-b11e-386d90e429ba",
   "metadata": {},
   "outputs": [
    {
     "name": "stdout",
     "output_type": "stream",
     "text": [
      "                                               Title   Price        Date\n",
      "0  Logitech G PRO X Superlight Wireless Gaming Mo...  189.49  2024-06-08\n",
      "1  Logitech G PRO X Superlight Wireless Gaming Mo...  189.49  2024-06-08\n"
     ]
    }
   ],
   "source": [
    "df = pd.read_csv(r'C:\\Users\\Tyler Lafferty\\AmazonScrapedData.csv')\n",
    "print(df)"
   ]
  },
  {
   "cell_type": "code",
   "execution_count": 15,
   "id": "75a387ef-0929-4ec0-a8c6-50d70d69f826",
   "metadata": {},
   "outputs": [],
   "source": [
    "# Appending Data\n",
    "\n",
    "with open('AmazonScrapedData.csv', 'a+', newline = '', encoding = 'UTF8') as f:\n",
    "    writer=csv.writer(f)\n",
    "    writer.writerow(data)"
   ]
  },
  {
   "cell_type": "code",
   "execution_count": 31,
   "id": "23bc70dc-9655-4e68-b71f-9ba257622155",
   "metadata": {},
   "outputs": [],
   "source": [
    "def check_price():\n",
    "    URL = 'https://www.amazon.ca/Logitech-Superlight-Wireless-Gaming-Mouse/dp/B087LXCTFJ'\n",
    "    headers = {\"User-Agent\": \"Mozilla/5.0 (Windows NT 10.0; Win64; x64) AppleWebKit/537.36 (KHTML, like Gecko) Chrome/125.0.0.0 Safari/537.36\", \"Accept-Encoding\":\"gzip, deflate\", \"Accept\":\"text/html,application/xhtml+xml,application/xml;q=0.9,*/*;q=0.8\", \"DNT\":\"1\",\"Connection\":\"close\", \"Upgrade-Insecure-Requests\":\"1\"}\n",
    "    page = requests.get(URL, headers = headers)\n",
    "    soup1 = BeautifulSoup(page.content, 'html.parser')\n",
    "    soup2 = BeautifulSoup(soup1.prettify(), 'html.parser')\n",
    "    title = soup2.find(id = 'productTitle').get_text()\n",
    "    price = soup2.find(class_ = 'aok-offscreen').get_text()\n",
    "    \n",
    "    price = price.strip()[1:7]\n",
    "    title = title.strip()\n",
    "    today = datetime.date.today()\n",
    "    print(today)\n",
    "\n",
    "    header = ['Title', 'Price', 'Date']\n",
    "    data = [title, price, today]\n",
    "\n",
    "    with open('AmazonScrapedData.csv', 'a+', newline = '', encoding = 'UTF8') as f:\n",
    "        writer=csv.writer(f)\n",
    "        writer.writerow(data)"
   ]
  },
  {
   "cell_type": "code",
   "execution_count": null,
   "id": "1ec49739-5aec-4d5d-bcdd-d0abf4293a83",
   "metadata": {},
   "outputs": [],
   "source": [
    "while(True): \n",
    "    check_price()\n",
    "    time.sleep(86400)"
   ]
  },
  {
   "cell_type": "code",
   "execution_count": 35,
   "id": "e7db6c99-8699-4ad0-b2c9-e1819ef30f4a",
   "metadata": {},
   "outputs": [
    {
     "name": "stdout",
     "output_type": "stream",
     "text": [
      "                                                Title   Price        Date\n",
      "0   Logitech G PRO X Superlight Wireless Gaming Mo...  189.49  2024-06-08\n",
      "1   Logitech G PRO X Superlight Wireless Gaming Mo...  189.49  2024-06-08\n",
      "2   Logitech G PRO X Superlight Wireless Gaming Mo...  189.49  2024-06-08\n",
      "3   Logitech G PRO X Superlight Wireless Gaming Mo...  189.49  2024-06-08\n",
      "4   Logitech G PRO X Superlight Wireless Gaming Mo...  189.49  2024-06-08\n",
      "5   Logitech G PRO X Superlight Wireless Gaming Mo...  189.49  2024-06-08\n",
      "6   Logitech G PRO X Superlight Wireless Gaming Mo...  189.49  2024-06-08\n",
      "7   Logitech G PRO X Superlight Wireless Gaming Mo...  189.49  2024-06-08\n",
      "8   Logitech G PRO X Superlight Wireless Gaming Mo...  189.49  2024-06-08\n",
      "9   Logitech G PRO X Superlight Wireless Gaming Mo...  189.49  2024-06-08\n",
      "10  Logitech G PRO X Superlight Wireless Gaming Mo...  189.49  2024-06-08\n",
      "11  Logitech G PRO X Superlight Wireless Gaming Mo...  189.49  2024-06-08\n",
      "12  Logitech G PRO X Superlight Wireless Gaming Mo...  189.49  2024-06-08\n",
      "13  Logitech G PRO X Superlight Wireless Gaming Mo...  189.49  2024-06-08\n",
      "14  Logitech G PRO X Superlight Wireless Gaming Mo...  189.49  2024-06-08\n",
      "15  Logitech G PRO X Superlight Wireless Gaming Mo...  189.49  2024-06-08\n",
      "16  Logitech G PRO X Superlight Wireless Gaming Mo...  189.49  2024-06-08\n",
      "17  Logitech G PRO X Superlight Wireless Gaming Mo...  189.49  2024-06-08\n",
      "18  Logitech G PRO X Superlight Wireless Gaming Mo...  189.49  2024-06-08\n",
      "19  Logitech G PRO X Superlight Wireless Gaming Mo...  189.49  2024-06-08\n",
      "20  Logitech G PRO X Superlight Wireless Gaming Mo...  189.49  2024-06-08\n",
      "21  Logitech G PRO X Superlight Wireless Gaming Mo...  189.49  2024-06-08\n",
      "22  Logitech G PRO X Superlight Wireless Gaming Mo...  189.49  2024-06-08\n",
      "23  Logitech G PRO X Superlight Wireless Gaming Mo...  189.49  2024-06-08\n"
     ]
    }
   ],
   "source": [
    "df = pd.read_csv(r'C:\\Users\\Tyler Lafferty\\AmazonScrapedData.csv')\n",
    "print(df)"
   ]
  },
  {
   "cell_type": "code",
   "execution_count": null,
   "id": "db17e939-122f-4860-ab0d-263a99778950",
   "metadata": {},
   "outputs": [],
   "source": []
  }
 ],
 "metadata": {
  "kernelspec": {
   "display_name": "Python 3 (ipykernel)",
   "language": "python",
   "name": "python3"
  },
  "language_info": {
   "codemirror_mode": {
    "name": "ipython",
    "version": 3
   },
   "file_extension": ".py",
   "mimetype": "text/x-python",
   "name": "python",
   "nbconvert_exporter": "python",
   "pygments_lexer": "ipython3",
   "version": "3.11.7"
  }
 },
 "nbformat": 4,
 "nbformat_minor": 5
}
